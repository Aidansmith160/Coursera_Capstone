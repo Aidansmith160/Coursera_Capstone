{
  "nbformat": 4,
  "nbformat_minor": 0,
  "metadata": {
    "colab": {
      "name": "Coursera Project.ipynb",
      "provenance": [],
      "authorship_tag": "ABX9TyNetSkMXdBJSdvXkxTPHiRW",
      "include_colab_link": true
    },
    "kernelspec": {
      "name": "python3",
      "display_name": "Python 3"
    }
  },
  "cells": [
    {
      "cell_type": "markdown",
      "metadata": {
        "id": "view-in-github",
        "colab_type": "text"
      },
      "source": [
        "<a href=\"https://colab.research.google.com/github/Aidansmith160/Coursera_Capstone/blob/master/Coursera_Project.ipynb\" target=\"_parent\"><img src=\"https://colab.research.google.com/assets/colab-badge.svg\" alt=\"Open In Colab\"/></a>"
      ]
    },
    {
      "cell_type": "markdown",
      "metadata": {
        "id": "cgvk7a4Wb8g5",
        "colab_type": "text"
      },
      "source": [
        "#Coursera Capstone"
      ]
    },
    {
      "cell_type": "markdown",
      "metadata": {
        "id": "LuNRdOd1cgha",
        "colab_type": "text"
      },
      "source": [
        "##Introduction"
      ]
    },
    {
      "cell_type": "markdown",
      "metadata": {
        "id": "DugRKD7zclV1",
        "colab_type": "text"
      },
      "source": [
        "This note book will be mainly used for the Coursera Capstone using location data\n",
        "\n",
        "First we will load some libraries and then print a statement"
      ]
    },
    {
      "cell_type": "code",
      "metadata": {
        "id": "8tfr34qockGz",
        "colab_type": "code",
        "colab": {}
      },
      "source": [
        "import pandas as pd\n",
        "import numpay as np"
      ],
      "execution_count": 1,
      "outputs": []
    },
    {
      "cell_type": "code",
      "metadata": {
        "id": "4chhP8ZFdJx3",
        "colab_type": "code",
        "colab": {
          "base_uri": "https://localhost:8080/",
          "height": 34
        },
        "outputId": "29dd57ad-9779-413f-91be-ed2f30ebb99f"
      },
      "source": [
        "print('Hello Capstone Project Course!')"
      ],
      "execution_count": 3,
      "outputs": [
        {
          "output_type": "stream",
          "text": [
            "Hello Capstone Project Course!\n"
          ],
          "name": "stdout"
        }
      ]
    },
    {
      "cell_type": "code",
      "metadata": {
        "id": "IgbJKrMTdfEQ",
        "colab_type": "code",
        "colab": {}
      },
      "source": [
        ""
      ],
      "execution_count": null,
      "outputs": []
    }
  ]
}